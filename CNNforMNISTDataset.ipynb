{
  "nbformat": 4,
  "nbformat_minor": 0,
  "metadata": {
    "colab": {
      "provenance": [],
      "authorship_tag": "ABX9TyP0/l57dvbfgW9Pu3qQadSE",
      "include_colab_link": true
    },
    "kernelspec": {
      "name": "python3",
      "display_name": "Python 3"
    },
    "language_info": {
      "name": "python"
    }
  },
  "cells": [
    {
      "cell_type": "markdown",
      "metadata": {
        "id": "view-in-github",
        "colab_type": "text"
      },
      "source": [
        "<a href=\"https://colab.research.google.com/github/YohaanKhan/CNNs/blob/main/CNNforMNISTDataset.ipynb\" target=\"_parent\"><img src=\"https://colab.research.google.com/assets/colab-badge.svg\" alt=\"Open In Colab\"/></a>"
      ]
    },
    {
      "cell_type": "markdown",
      "source": [
        "# Installing dependencies"
      ],
      "metadata": {
        "id": "GklBxyhHvnwk"
      }
    },
    {
      "cell_type": "code",
      "source": [
        "!pip install torch\n",
        "!pip install torchinfo\n",
        "!pip install torchvision\n",
        "!pip install matplotlib"
      ],
      "metadata": {
        "colab": {
          "base_uri": "https://localhost:8080/"
        },
        "id": "ZwO-sfNqnZqC",
        "outputId": "cba179bc-2828-499f-87d8-655e8e1ccf59"
      },
      "execution_count": null,
      "outputs": [
        {
          "output_type": "stream",
          "name": "stdout",
          "text": [
            "Requirement already satisfied: torchinfo in /usr/local/lib/python3.11/dist-packages (1.8.0)\n"
          ]
        }
      ]
    },
    {
      "cell_type": "markdown",
      "source": [
        "# Importing the Required Libraries"
      ],
      "metadata": {
        "id": "Z5enSqCVv43S"
      }
    },
    {
      "cell_type": "code",
      "source": [
        "import torch\n",
        "import torch.nn as nn\n",
        "from torchinfo import summary\n",
        "import torch.optim as optim\n",
        "import torchvision\n",
        "import torchvision.transforms as transforms\n",
        "import matplotlib.pyplot as plt"
      ],
      "metadata": {
        "id": "inpvGRmqmiJw"
      },
      "execution_count": null,
      "outputs": []
    },
    {
      "cell_type": "markdown",
      "source": [
        "# Defining Hyperparameters"
      ],
      "metadata": {
        "id": "Jo7XExIKwBpV"
      }
    },
    {
      "cell_type": "code",
      "source": [
        "lr = 1e-4  #Learning rate - controls the size of the updates made to the model's parameters based on the gradient of the loss function.\n",
        "num_epochs = 40 #Epochs - A reference to the complete go-through of the dataset once\n",
        "batch_size = 64 #Batch Size - A reference to the number of inputs being passed through the neural network in one iteration of a training cycle"
      ],
      "metadata": {
        "id": "CR4xJ9hZsFWd"
      },
      "execution_count": null,
      "outputs": []
    },
    {
      "cell_type": "markdown",
      "source": [
        "# Loading and Normalizing the Dataset"
      ],
      "metadata": {
        "id": "CrzmFdkOwLmE"
      }
    },
    {
      "cell_type": "code",
      "source": [
        "transform = transforms.Compose([ #transform.Compose is used to include all the transformations in a single pipeline\n",
        "    transforms.ToTensor(), #Converts the PIL image into tensor, in this case, it has an input of 28 x 28 greyscale images, so we divide the values assigned to each pixel by 255 to get a value between 0 to 1.\n",
        "    transforms.Normalize((0.1307,), (0.3081,))  #The dataset is normalized with the mean and standard deviation of the dataset\n",
        "])\n",
        "\n",
        "trainset = torchvision.datasets.MNIST(root='./data', train=True, download=True, transform=transform) #Root specifies where we can access the dataset from, Train is assigned true as we are going to train on this dataset, download is assigned true allows the function to download the data in case it is missing from the stated location, and finally we apply the transformations we defined earlier to each and every image.\n",
        "trainloader = torch.utils.data.DataLoader(trainset, batch_size=batch_size, shuffle=True) #We select the trainset data defined above, then we ensure that the training takes place with the desired batch sizes and finally we assign True value to the shuffling as we do not want the dataset to learn irrelevant order patterns from the dataset.\n"
      ],
      "metadata": {
        "id": "hvImVcs1rU5O"
      },
      "execution_count": null,
      "outputs": []
    },
    {
      "cell_type": "markdown",
      "source": [
        "# Building the Convolutional Neural Network"
      ],
      "metadata": {
        "id": "L8bhA8cywYJt"
      }
    },
    {
      "cell_type": "code",
      "execution_count": null,
      "metadata": {
        "id": "J9NBi12Ikt9i"
      },
      "outputs": [],
      "source": [
        "class MNISTConvNet(nn.Module):\n",
        "  def __init__(self):\n",
        "    super(MNISTConvNet, self).__init__()\n",
        "    self.conv1 = nn.Sequential(\n",
        "        nn.Conv2d(1, 32, 5, padding = 'same'), #We define the input as 1 with the same dimension as earlier 28 x 28 ( as we kept padding as same) into a 5x5 kernel with the output being 32 channels\n",
        "        nn.ReLU(), #The relu activation function\n",
        "        nn.MaxPool2d(2) #It halves the spatial dimensions with 2 x 2 window (14 x 14)\n",
        "    )\n",
        "    self.conv2 = nn.Sequential(\n",
        "        nn.Conv2d(32, 64, 5, padding = 'same'), #We define the input as 32 with the same dimension as earlier 14 x 14 ( as we kept padding as same) into a 5x5 kernel with the output being 64 channels\n",
        "        nn.ReLU(), #The relu activation function\n",
        "        nn.MaxPool2d(2) #It halves the spatial dimensions with 2 x 2 window (7 x 7)\n",
        "    )\n",
        "    self.fc1 = nn.Sequential(\n",
        "        nn.Flatten(), #Flattens the 7 x 7 x 64 tensor into a 1D vector\n",
        "        nn.Linear(7 * 7 * 64, 1024), #it takes the 1D vector of size 3136 and maps it to a 1D vector of size 1024\n",
        "        nn.Dropout(0.5), #Dropout(0.5) is used to prevent overfitting by randomly setting half of the neurons to zero during training.\n",
        "        nn.Linear(1024, 10)  # The final output is a tensor of shape (batch_size, 10), corresponding to the logits for the 10 MNIST classes.\n",
        "    )\n",
        "\n",
        "  def forward(self, x):\n",
        "    x = self.conv1(x)\n",
        "    x = self.conv2(x)\n",
        "    x = self.fc1(x)\n",
        "    return x\n",
        "\n"
      ]
    },
    {
      "cell_type": "markdown",
      "source": [
        "# Model Summary\n"
      ],
      "metadata": {
        "id": "vB3alZxvwh9c"
      }
    },
    {
      "cell_type": "code",
      "source": [
        "model = MNISTConvNet()\n",
        "summary(model, input_size=(1, 1, 28, 28)) #It summarizes the layers, output shapes and parameters of a model"
      ],
      "metadata": {
        "colab": {
          "base_uri": "https://localhost:8080/"
        },
        "id": "j5tlJeuJme77",
        "outputId": "df828872-04a0-4c47-c848-3b4fe362fdec"
      },
      "execution_count": null,
      "outputs": [
        {
          "output_type": "execute_result",
          "data": {
            "text/plain": [
              "==========================================================================================\n",
              "Layer (type:depth-idx)                   Output Shape              Param #\n",
              "==========================================================================================\n",
              "MNISTConvNet                             [1, 10]                   --\n",
              "├─Sequential: 1-1                        [1, 32, 14, 14]           --\n",
              "│    └─Conv2d: 2-1                       [1, 32, 28, 28]           832\n",
              "│    └─ReLU: 2-2                         [1, 32, 28, 28]           --\n",
              "│    └─MaxPool2d: 2-3                    [1, 32, 14, 14]           --\n",
              "├─Sequential: 1-2                        [1, 64, 7, 7]             --\n",
              "│    └─Conv2d: 2-4                       [1, 64, 14, 14]           51,264\n",
              "│    └─ReLU: 2-5                         [1, 64, 14, 14]           --\n",
              "│    └─MaxPool2d: 2-6                    [1, 64, 7, 7]             --\n",
              "├─Sequential: 1-3                        [1, 10]                   --\n",
              "│    └─Flatten: 2-7                      [1, 3136]                 --\n",
              "│    └─Linear: 2-8                       [1, 1024]                 3,212,288\n",
              "│    └─Dropout: 2-9                      [1, 1024]                 --\n",
              "│    └─Linear: 2-10                      [1, 10]                   10,250\n",
              "==========================================================================================\n",
              "Total params: 3,274,634\n",
              "Trainable params: 3,274,634\n",
              "Non-trainable params: 0\n",
              "Total mult-adds (Units.MEGABYTES): 13.92\n",
              "==========================================================================================\n",
              "Input size (MB): 0.00\n",
              "Forward/backward pass size (MB): 0.31\n",
              "Params size (MB): 13.10\n",
              "Estimated Total Size (MB): 13.41\n",
              "=========================================================================================="
            ]
          },
          "metadata": {},
          "execution_count": 34
        }
      ]
    },
    {
      "cell_type": "markdown",
      "source": [
        "# Training the Model and Getting the results"
      ],
      "metadata": {
        "id": "DyrUZH49wlrx"
      }
    },
    {
      "cell_type": "code",
      "source": [
        "\n",
        "model = MNISTConvNet() #Initializes the convulational neural network\n",
        "device = torch.device(\"cuda\" if torch.cuda.is_available() else \"cpu\") #This statement checks if a GPU is available if yes, it switches to that, or else it utilises the CPU\n",
        "model.to(device)  #Moves the model to whichever device is available CPU OR GPU\n",
        "\n",
        "optimizer = torch.optim.Adam(model.parameters(), lr=lr) #This utilises the Adam Optimizer that adjusts the learning rate of each parameter based on its gradient, furthermore passing the parameters into the optimizer and passing in the learning rate as well.\n",
        "loss_fn = nn.CrossEntropyLoss() #Cross-Entropy Loss is a common loss function used for classification tasks. It compares the model's predictions to the true labels and computes the error.\n",
        "\n",
        "train_losses = [] #This stores the losses for each epoch for further analysis.\n",
        "train_accuracies = [] #This stores the accuracies for each epoch for further analysis.\n",
        "\n",
        "for epoch in range(num_epochs):\n",
        "    running_loss = 0.0\n",
        "    num_correct = 0\n",
        "    total_samples = 0\n",
        "\n",
        "    for inputs, labels in trainloader:\n",
        "        inputs, labels = inputs.to(device), labels.to(device)\n",
        "\n",
        "        optimizer.zero_grad() #This clears any previous gradients stored by the optimizer, this prevents them from accumulating across batches\n",
        "        outputs = model(inputs) #The inputs are passed through the model and the output is calculated\n",
        "        loss = loss_fn(outputs, labels) #Calculates the loss function by comparing the outputs and the labels\n",
        "        loss.backward() #This computes the gradient of the loss with respect to each parameter using backpropogation\n",
        "        optimizer.step() #This updates the model parameters using the gradients calculated by the loss.backward()\n",
        "\n",
        "        running_loss += loss.item()\n",
        "        _, predicted = outputs.max(dim=1)\n",
        "        num_correct += (predicted == labels).sum().item()\n",
        "        total_samples += labels.size(0)\n",
        "\n",
        "    epoch_loss = running_loss / len(trainloader)\n",
        "    epoch_accuracy = num_correct / total_samples\n",
        "    train_losses.append(epoch_loss)\n",
        "    train_accuracies.append(epoch_accuracy)\n",
        "\n",
        "    print(f\"Epoch {epoch+1}/{num_epochs}, Loss: {epoch_loss:.4f}, Accuracy: {epoch_accuracy:.4f}\")\n",
        "\n",
        "print(\"Training complete!\")\n",
        "\n"
      ],
      "metadata": {
        "colab": {
          "base_uri": "https://localhost:8080/"
        },
        "id": "lExs7F0woggm",
        "outputId": "2c438ca9-0161-4f4e-b915-63f9397d7594"
      },
      "execution_count": null,
      "outputs": [
        {
          "output_type": "stream",
          "name": "stdout",
          "text": [
            "Epoch 1/40, Loss: 0.2236, Accuracy: 0.9358\n",
            "Epoch 2/40, Loss: 0.0669, Accuracy: 0.9798\n",
            "Epoch 3/40, Loss: 0.0499, Accuracy: 0.9849\n",
            "Epoch 4/40, Loss: 0.0397, Accuracy: 0.9878\n",
            "Epoch 5/40, Loss: 0.0325, Accuracy: 0.9901\n",
            "Epoch 6/40, Loss: 0.0282, Accuracy: 0.9913\n",
            "Epoch 7/40, Loss: 0.0238, Accuracy: 0.9927\n",
            "Epoch 8/40, Loss: 0.0199, Accuracy: 0.9937\n",
            "Epoch 9/40, Loss: 0.0166, Accuracy: 0.9948\n",
            "Epoch 10/40, Loss: 0.0146, Accuracy: 0.9952\n",
            "Epoch 11/40, Loss: 0.0130, Accuracy: 0.9956\n",
            "Epoch 12/40, Loss: 0.0103, Accuracy: 0.9969\n",
            "Epoch 13/40, Loss: 0.0095, Accuracy: 0.9970\n",
            "Epoch 14/40, Loss: 0.0081, Accuracy: 0.9975\n",
            "Epoch 15/40, Loss: 0.0083, Accuracy: 0.9972\n",
            "Epoch 16/40, Loss: 0.0062, Accuracy: 0.9982\n",
            "Epoch 17/40, Loss: 0.0055, Accuracy: 0.9984\n",
            "Epoch 18/40, Loss: 0.0057, Accuracy: 0.9982\n",
            "Epoch 19/40, Loss: 0.0040, Accuracy: 0.9988\n",
            "Epoch 20/40, Loss: 0.0053, Accuracy: 0.9983\n",
            "Epoch 21/40, Loss: 0.0034, Accuracy: 0.9988\n",
            "Epoch 22/40, Loss: 0.0036, Accuracy: 0.9988\n",
            "Epoch 23/40, Loss: 0.0027, Accuracy: 0.9991\n",
            "Epoch 24/40, Loss: 0.0028, Accuracy: 0.9992\n",
            "Epoch 25/40, Loss: 0.0029, Accuracy: 0.9991\n",
            "Epoch 26/40, Loss: 0.0029, Accuracy: 0.9992\n",
            "Epoch 27/40, Loss: 0.0028, Accuracy: 0.9990\n",
            "Epoch 28/40, Loss: 0.0022, Accuracy: 0.9994\n",
            "Epoch 29/40, Loss: 0.0029, Accuracy: 0.9991\n",
            "Epoch 30/40, Loss: 0.0016, Accuracy: 0.9995\n",
            "Epoch 31/40, Loss: 0.0025, Accuracy: 0.9991\n",
            "Epoch 32/40, Loss: 0.0016, Accuracy: 0.9994\n",
            "Epoch 33/40, Loss: 0.0026, Accuracy: 0.9991\n",
            "Epoch 34/40, Loss: 0.0012, Accuracy: 0.9996\n",
            "Epoch 35/40, Loss: 0.0021, Accuracy: 0.9993\n",
            "Epoch 36/40, Loss: 0.0019, Accuracy: 0.9993\n",
            "Epoch 37/40, Loss: 0.0025, Accuracy: 0.9991\n",
            "Epoch 38/40, Loss: 0.0014, Accuracy: 0.9995\n",
            "Epoch 39/40, Loss: 0.0025, Accuracy: 0.9992\n",
            "Epoch 40/40, Loss: 0.0017, Accuracy: 0.9994\n",
            "Training complete!\n"
          ]
        }
      ]
    },
    {
      "cell_type": "markdown",
      "source": [
        "# Visualising the Models Training Performance"
      ],
      "metadata": {
        "id": "zOulhAriVYv6"
      }
    },
    {
      "cell_type": "code",
      "source": [
        "import matplotlib.pyplot as plt\n",
        "\n",
        "# Plotting training loss\n",
        "plt.figure(figsize=(12, 6))\n",
        "\n",
        "# Training Loss Plot\n",
        "plt.subplot(1, 2, 1)\n",
        "plt.plot(range(1, num_epochs + 1), train_losses, marker='o', linestyle='-', color='b')\n",
        "plt.title('Training Loss')\n",
        "plt.xlabel('Epoch')\n",
        "plt.ylabel('Loss')\n",
        "\n",
        "# Training Accuracy Plot\n",
        "plt.subplot(1, 2, 2)\n",
        "plt.plot(range(1, num_epochs + 1), train_accuracies, marker='o', linestyle='-', color='g')\n",
        "plt.title('Training Accuracy')\n",
        "plt.xlabel('Epoch')\n",
        "plt.ylabel('Accuracy')\n",
        "\n",
        "# Show the plots\n",
        "plt.tight_layout()\n",
        "plt.show()\n"
      ],
      "metadata": {
        "colab": {
          "base_uri": "https://localhost:8080/",
          "height": 607
        },
        "id": "6iZyihMASOBC",
        "outputId": "1fb5973b-0518-4c8d-8105-7fd8f7182ae9"
      },
      "execution_count": null,
      "outputs": [
        {
          "output_type": "display_data",
          "data": {
            "text/plain": [
              "<Figure size 1200x600 with 2 Axes>"
            ],
            "image/png": "[encoded data removed]"
          },
          "metadata": {}
        }
      ]
    },
    {
      "cell_type": "markdown",
      "source": [
        "# Loading the Test Dataset"
      ],
      "metadata": {
        "id": "3EiWDCAbVgOI"
      }
    },
    {
      "cell_type": "code",
      "source": [
        "# Load the MNIST test set\n",
        "testset = torchvision.datasets.MNIST(root='./data', train=False, download=True, transform=transform) #Again accessing the dataset from the root location, train is set to false as we are using this for testing purposes, download is set to true as it will allow us to download the dataset if not found at root, lastly the transform applies the defined transformation to each image of the test set\n",
        "testloader = torch.utils.data.DataLoader(testset, batch_size=batch_size, shuffle=False) #We utilise the test set, with the batch size as initialised earlier as 64 and shuffle is switched off.\n"
      ],
      "metadata": {
        "id": "ilWn0bw9Ut29"
      },
      "execution_count": null,
      "outputs": []
    },
    {
      "cell_type": "markdown",
      "source": [
        "# Evaluating the Test Dataset"
      ],
      "metadata": {
        "id": "XKE5SO7wVoGH"
      }
    },
    {
      "cell_type": "code",
      "source": [
        "model.eval()  #The dropout will be disabled and batch normalization will utilise the running statistics rather than the batch statistics\n",
        "\n",
        "num_correct = 0\n",
        "total_samples = 0\n",
        "\n",
        "with torch.no_grad():  #No gradients are to be calculated for this test set\n",
        "    for inputs, labels in testloader:\n",
        "        inputs, labels = inputs.to(device), labels.to(device)\n",
        "        outputs = model(inputs)\n",
        "        _, predicted = outputs.max(dim=1)\n",
        "        num_correct += (predicted == labels).sum().item()\n",
        "        total_samples += labels.size(0)\n",
        "\n",
        "\n",
        "test_accuracy = num_correct / total_samples\n",
        "print(f\"Test Accuracy: {test_accuracy:.4f}\")\n"
      ],
      "metadata": {
        "colab": {
          "base_uri": "https://localhost:8080/"
        },
        "id": "4gBCEuB7Ufqj",
        "outputId": "f6ad3868-430f-4e8f-d777-d4f18de9ef5e"
      },
      "execution_count": null,
      "outputs": [
        {
          "output_type": "stream",
          "name": "stdout",
          "text": [
            "Test Accuracy: 0.9926\n"
          ]
        }
      ]
    },
    {
      "cell_type": "markdown",
      "source": [
        "# Visualizing the first 10 outputs and predictions"
      ],
      "metadata": {
        "id": "ZqwADuIVWLj2"
      }
    },
    {
      "cell_type": "code",
      "source": [
        "import matplotlib.pyplot as plt\n",
        "import numpy as np\n",
        "\n",
        "\n",
        "model.eval() # Sets model to evaluation mode\n",
        "\n",
        "\n",
        "data_iter = iter(testloader) # Gets a batch of test images\n",
        "images, labels = next(data_iter)  # Get the next batch of images and labels\n",
        "\n",
        "\n",
        "images, labels = images.to(device), labels.to(device) # Move images and labels to the appropriate device\n",
        "\n",
        "\n",
        "outputs = model(images) # Pass the images through the model\n",
        "\n",
        "\n",
        "_, predicted = outputs.max(dim=1) # Get the predicted labels\n",
        "\n",
        "\n",
        "fig, axes = plt.subplots(1, 10, figsize=(15, 1.5)) # Plot the images with predicted and true labels\n",
        "\n",
        "for i in range(10):\n",
        "    ax = axes[i]\n",
        "    ax.imshow(images[i].cpu().numpy().squeeze(), cmap='gray')\n",
        "    ax.set_title(f\"Pred: {predicted[i].item()} \\nTrue: {labels[i].item()}\")\n",
        "    ax.axis('off')\n",
        "\n",
        "plt.show()\n"
      ],
      "metadata": {
        "colab": {
          "base_uri": "https://localhost:8080/",
          "height": 178
        },
        "id": "1vDQ5EqtU9IB",
        "outputId": "de6cf74d-77bc-466d-c8a4-36fd06016014"
      },
      "execution_count": null,
      "outputs": [
        {
          "output_type": "display_data",
          "data": {
            "text/plain": [
              "<Figure size 1500x150 with 10 Axes>"
            ],
            "image/png": "[encoded data removed]"
          },
          "metadata": {}
        }
      ]
    },
    {
      "cell_type": "markdown",
      "source": [
        "# Save the Model"
      ],
      "metadata": {
        "id": "Q7RkjPPjWQm8"
      }
    },
    {
      "cell_type": "code",
      "source": [
        "torch.save(model.state_dict(), 'khansmodel.pth')\n"
      ],
      "metadata": {
        "id": "OnDsfdejVKRs"
      },
      "execution_count": null,
      "outputs": []
    },
    {
      "cell_type": "markdown",
      "source": [
        "# **Training Model Accuracy after 10 epochs: 0.9952**"
      ],
      "metadata": {
        "id": "32_V2sAMX_gj"
      }
    },
    {
      "cell_type": "markdown",
      "source": [
        "# **Training Model Accuracy after 20 epochs: 0.9983**"
      ],
      "metadata": {
        "id": "ve95N0Z2YQhT"
      }
    },
    {
      "cell_type": "markdown",
      "source": [
        "# **Training Model Accuracy after 30 epochs: 0.9995**"
      ],
      "metadata": {
        "id": "-UYjAEUDYjoR"
      }
    },
    {
      "cell_type": "markdown",
      "source": [
        "# **Training Model Accuracy after 40 epochs: 0.9994**"
      ],
      "metadata": {
        "id": "VKNBsDKHYxfl"
      }
    },
    {
      "cell_type": "markdown",
      "source": [
        "# **Test Accuracy: 0.9926**"
      ],
      "metadata": {
        "id": "_OyO-MQsY_Sf"
      }
    }
  ]
}